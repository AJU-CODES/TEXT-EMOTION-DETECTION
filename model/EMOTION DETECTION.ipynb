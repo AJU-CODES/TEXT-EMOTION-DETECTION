{
 "cells": [
  {
   "cell_type": "markdown",
   "id": "21892edf-2146-40e3-a879-03eb5ae57476",
   "metadata": {},
   "source": [
    "# TEXT EMOTION DETECTION"
   ]
  },
  {
   "cell_type": "markdown",
   "id": "b724c72f-14b2-438c-8589-3885e5095be6",
   "metadata": {},
   "source": [
    "## LIBRARY IMPORT "
   ]
  },
  {
   "cell_type": "code",
   "execution_count": 3,
   "id": "650f97a2-7e58-4d9d-8b43-29cacab88cf7",
   "metadata": {},
   "outputs": [
    {
     "name": "stdout",
     "output_type": "stream",
     "text": [
      "Requirement already satisfied: neattext in d:\\python_anaconda\\lib\\site-packages (0.1.3)\n"
     ]
    }
   ],
   "source": [
    "!pip install neattext"
   ]
  },
  {
   "cell_type": "code",
   "execution_count": 40,
   "id": "58bf2af4-db8e-4183-8659-bb3191c90751",
   "metadata": {},
   "outputs": [],
   "source": [
    "import pandas as aju\n",
    "import numpy as np\n",
    "import seaborn as sns\n",
    "import warnings\n",
    "import joblib\n",
    "\n",
    "from sklearn.model_selection import train_test_split\n",
    "from sklearn.linear_model import LogisticRegression\n",
    "from sklearn.pipeline import Pipeline\n",
    "from sklearn.feature_extraction.text import CountVectorizer\n",
    "\n",
    "import neattext.functions as nfx"
   ]
  },
  {
   "cell_type": "code",
   "execution_count": 5,
   "id": "2e25c019-83ea-4556-9b3d-f18c9de4a613",
   "metadata": {},
   "outputs": [],
   "source": [
    "warnings.filterwarnings('ignore')"
   ]
  },
  {
   "cell_type": "markdown",
   "id": "b99c6e96-7480-403b-9a1e-37b350c50696",
   "metadata": {},
   "source": [
    "## DATA IMPORT"
   ]
  },
  {
   "cell_type": "code",
   "execution_count": 7,
   "id": "f4d61493-9a81-43ff-b71f-4975d91dcde6",
   "metadata": {},
   "outputs": [],
   "source": [
    "df = aju.read_csv('data/emotion_dataset_raw.csv')"
   ]
  },
  {
   "cell_type": "markdown",
   "id": "61ed9623-71c4-4305-9781-72deb0acf3b3",
   "metadata": {},
   "source": [
    "## EDA"
   ]
  },
  {
   "cell_type": "code",
   "execution_count": 9,
   "id": "0c1dba21-f62f-4d85-b886-aa2610dec8f5",
   "metadata": {},
   "outputs": [
    {
     "data": {
      "text/html": [
       "<div>\n",
       "<style scoped>\n",
       "    .dataframe tbody tr th:only-of-type {\n",
       "        vertical-align: middle;\n",
       "    }\n",
       "\n",
       "    .dataframe tbody tr th {\n",
       "        vertical-align: top;\n",
       "    }\n",
       "\n",
       "    .dataframe thead th {\n",
       "        text-align: right;\n",
       "    }\n",
       "</style>\n",
       "<table border=\"1\" class=\"dataframe\">\n",
       "  <thead>\n",
       "    <tr style=\"text-align: right;\">\n",
       "      <th></th>\n",
       "      <th>Emotion</th>\n",
       "      <th>Text</th>\n",
       "    </tr>\n",
       "  </thead>\n",
       "  <tbody>\n",
       "    <tr>\n",
       "      <th>0</th>\n",
       "      <td>neutral</td>\n",
       "      <td>Why ?</td>\n",
       "    </tr>\n",
       "    <tr>\n",
       "      <th>1</th>\n",
       "      <td>joy</td>\n",
       "      <td>Sage Act upgrade on my to do list for tommorow.</td>\n",
       "    </tr>\n",
       "    <tr>\n",
       "      <th>2</th>\n",
       "      <td>sadness</td>\n",
       "      <td>ON THE WAY TO MY HOMEGIRL BABY FUNERAL!!! MAN ...</td>\n",
       "    </tr>\n",
       "    <tr>\n",
       "      <th>3</th>\n",
       "      <td>joy</td>\n",
       "      <td>Such an eye ! The true hazel eye-and so brill...</td>\n",
       "    </tr>\n",
       "    <tr>\n",
       "      <th>4</th>\n",
       "      <td>joy</td>\n",
       "      <td>@Iluvmiasantos ugh babe.. hugggzzz for u .!  b...</td>\n",
       "    </tr>\n",
       "  </tbody>\n",
       "</table>\n",
       "</div>"
      ],
      "text/plain": [
       "   Emotion                                               Text\n",
       "0  neutral                                             Why ? \n",
       "1      joy    Sage Act upgrade on my to do list for tommorow.\n",
       "2  sadness  ON THE WAY TO MY HOMEGIRL BABY FUNERAL!!! MAN ...\n",
       "3      joy   Such an eye ! The true hazel eye-and so brill...\n",
       "4      joy  @Iluvmiasantos ugh babe.. hugggzzz for u .!  b..."
      ]
     },
     "execution_count": 9,
     "metadata": {},
     "output_type": "execute_result"
    }
   ],
   "source": [
    "df.head()"
   ]
  },
  {
   "cell_type": "code",
   "execution_count": 10,
   "id": "80cc3faf-950c-4e68-9482-6d8a0b482ee1",
   "metadata": {},
   "outputs": [
    {
     "data": {
      "text/plain": [
       "Emotion\n",
       "joy         11045\n",
       "sadness      6722\n",
       "fear         5410\n",
       "anger        4297\n",
       "surprise     4062\n",
       "neutral      2254\n",
       "disgust       856\n",
       "shame         146\n",
       "Name: count, dtype: int64"
      ]
     },
     "execution_count": 10,
     "metadata": {},
     "output_type": "execute_result"
    }
   ],
   "source": [
    "df['Emotion'].value_counts()"
   ]
  },
  {
   "cell_type": "code",
   "execution_count": 11,
   "id": "7f16861e-0017-4054-a699-587cf218e919",
   "metadata": {},
   "outputs": [
    {
     "data": {
      "text/plain": [
       "<Axes: xlabel='Emotion', ylabel='count'>"
      ]
     },
     "execution_count": 11,
     "metadata": {},
     "output_type": "execute_result"
    },
    {
     "data": {
      "image/png": "[encoded data removed]",
      "text/plain": [
       "<Figure size 640x480 with 1 Axes>"
      ]
     },
     "metadata": {},
     "output_type": "display_data"
    }
   ],
   "source": [
    "sns.countplot(x = 'Emotion',data = df)"
   ]
  },
  {
   "cell_type": "markdown",
   "id": "9ca094da-70cf-4a31-86c5-415e884e3850",
   "metadata": {},
   "source": [
    "**From the above plot we can see that *Joy* has the high count and *Shame* has the low count**"
   ]
  },
  {
   "cell_type": "markdown",
   "id": "db900a15-78b7-4973-8633-6fe16840bff7",
   "metadata": {},
   "source": [
    "## DATA PREPROCESSING"
   ]
  },
  {
   "cell_type": "markdown",
   "id": "be182a33-f40c-4a3a-a513-a500d657e37d",
   "metadata": {},
   "source": [
    "***neattext* is a library used to clean and preprocess text data**  \n",
    "\n",
    "* It is used to clean unstructured text data, reduce noises, avoid repetition of same code"
   ]
  },
  {
   "cell_type": "markdown",
   "id": "82fd1fdc-0285-4ded-b193-7df5538082a2",
   "metadata": {},
   "source": [
    "### REMOVING USER HANDLES"
   ]
  },
  {
   "cell_type": "markdown",
   "id": "482db40c-ecdd-46c3-9096-a5ad8dd61052",
   "metadata": {},
   "source": [
    "**Removing user handles like id name,twitter handles**"
   ]
  },
  {
   "cell_type": "code",
   "execution_count": 17,
   "id": "cc123a4a-41c8-46b7-9175-15da7473e42d",
   "metadata": {},
   "outputs": [
    {
     "data": {
      "text/html": [
       "<div>\n",
       "<style scoped>\n",
       "    .dataframe tbody tr th:only-of-type {\n",
       "        vertical-align: middle;\n",
       "    }\n",
       "\n",
       "    .dataframe tbody tr th {\n",
       "        vertical-align: top;\n",
       "    }\n",
       "\n",
       "    .dataframe thead th {\n",
       "        text-align: right;\n",
       "    }\n",
       "</style>\n",
       "<table border=\"1\" class=\"dataframe\">\n",
       "  <thead>\n",
       "    <tr style=\"text-align: right;\">\n",
       "      <th></th>\n",
       "      <th>Emotion</th>\n",
       "      <th>Text</th>\n",
       "      <th>clean_text</th>\n",
       "    </tr>\n",
       "  </thead>\n",
       "  <tbody>\n",
       "    <tr>\n",
       "      <th>0</th>\n",
       "      <td>neutral</td>\n",
       "      <td>Why ?</td>\n",
       "      <td>Why ?</td>\n",
       "    </tr>\n",
       "    <tr>\n",
       "      <th>1</th>\n",
       "      <td>joy</td>\n",
       "      <td>Sage Act upgrade on my to do list for tommorow.</td>\n",
       "      <td>Sage Act upgrade on my to do list for tommorow.</td>\n",
       "    </tr>\n",
       "    <tr>\n",
       "      <th>2</th>\n",
       "      <td>sadness</td>\n",
       "      <td>ON THE WAY TO MY HOMEGIRL BABY FUNERAL!!! MAN ...</td>\n",
       "      <td>ON THE WAY TO MY HOMEGIRL BABY FUNERAL!!! MAN ...</td>\n",
       "    </tr>\n",
       "    <tr>\n",
       "      <th>3</th>\n",
       "      <td>joy</td>\n",
       "      <td>Such an eye ! The true hazel eye-and so brill...</td>\n",
       "      <td>Such an eye ! The true hazel eye-and so brill...</td>\n",
       "    </tr>\n",
       "    <tr>\n",
       "      <th>4</th>\n",
       "      <td>joy</td>\n",
       "      <td>@Iluvmiasantos ugh babe.. hugggzzz for u .!  b...</td>\n",
       "      <td>ugh babe.. hugggzzz for u .!  babe naamazed ...</td>\n",
       "    </tr>\n",
       "  </tbody>\n",
       "</table>\n",
       "</div>"
      ],
      "text/plain": [
       "   Emotion                                               Text  \\\n",
       "0  neutral                                             Why ?    \n",
       "1      joy    Sage Act upgrade on my to do list for tommorow.   \n",
       "2  sadness  ON THE WAY TO MY HOMEGIRL BABY FUNERAL!!! MAN ...   \n",
       "3      joy   Such an eye ! The true hazel eye-and so brill...   \n",
       "4      joy  @Iluvmiasantos ugh babe.. hugggzzz for u .!  b...   \n",
       "\n",
       "                                          clean_text  \n",
       "0                                             Why ?   \n",
       "1    Sage Act upgrade on my to do list for tommorow.  \n",
       "2  ON THE WAY TO MY HOMEGIRL BABY FUNERAL!!! MAN ...  \n",
       "3   Such an eye ! The true hazel eye-and so brill...  \n",
       "4    ugh babe.. hugggzzz for u .!  babe naamazed ...  "
      ]
     },
     "execution_count": 17,
     "metadata": {},
     "output_type": "execute_result"
    }
   ],
   "source": [
    "df['clean_text'] = df.Text.apply(nfx.remove_userhandles)\n",
    "df.head()"
   ]
  },
  {
   "cell_type": "markdown",
   "id": "f9bfe6f0-1a0e-4b1d-ae55-994deda1fd13",
   "metadata": {},
   "source": [
    "### REMOVING STOPWORDS"
   ]
  },
  {
   "cell_type": "markdown",
   "id": "b8f975fe-fbab-4f1c-a77f-d05e53434008",
   "metadata": {},
   "source": [
    "**Removing stopwords like *and,or,the,a,an...* that doesn't gonna affect the prediction**"
   ]
  },
  {
   "cell_type": "code",
   "execution_count": 20,
   "id": "68526029-474c-4f1c-8fa1-e24afa735760",
   "metadata": {},
   "outputs": [
    {
     "data": {
      "text/html": [
       "<div>\n",
       "<style scoped>\n",
       "    .dataframe tbody tr th:only-of-type {\n",
       "        vertical-align: middle;\n",
       "    }\n",
       "\n",
       "    .dataframe tbody tr th {\n",
       "        vertical-align: top;\n",
       "    }\n",
       "\n",
       "    .dataframe thead th {\n",
       "        text-align: right;\n",
       "    }\n",
       "</style>\n",
       "<table border=\"1\" class=\"dataframe\">\n",
       "  <thead>\n",
       "    <tr style=\"text-align: right;\">\n",
       "      <th></th>\n",
       "      <th>Emotion</th>\n",
       "      <th>Text</th>\n",
       "      <th>clean_text</th>\n",
       "    </tr>\n",
       "  </thead>\n",
       "  <tbody>\n",
       "    <tr>\n",
       "      <th>0</th>\n",
       "      <td>neutral</td>\n",
       "      <td>Why ?</td>\n",
       "      <td>?</td>\n",
       "    </tr>\n",
       "    <tr>\n",
       "      <th>1</th>\n",
       "      <td>joy</td>\n",
       "      <td>Sage Act upgrade on my to do list for tommorow.</td>\n",
       "      <td>Sage Act upgrade list tommorow.</td>\n",
       "    </tr>\n",
       "    <tr>\n",
       "      <th>2</th>\n",
       "      <td>sadness</td>\n",
       "      <td>ON THE WAY TO MY HOMEGIRL BABY FUNERAL!!! MAN ...</td>\n",
       "      <td>WAY HOMEGIRL BABY FUNERAL!!! MAN HATE FUNERALS...</td>\n",
       "    </tr>\n",
       "    <tr>\n",
       "      <th>3</th>\n",
       "      <td>joy</td>\n",
       "      <td>Such an eye ! The true hazel eye-and so brill...</td>\n",
       "      <td>eye ! true hazel eye-and brilliant ! Regular f...</td>\n",
       "    </tr>\n",
       "    <tr>\n",
       "      <th>4</th>\n",
       "      <td>joy</td>\n",
       "      <td>@Iluvmiasantos ugh babe.. hugggzzz for u .!  b...</td>\n",
       "      <td>ugh babe.. hugggzzz u .! babe naamazed nga ako...</td>\n",
       "    </tr>\n",
       "    <tr>\n",
       "      <th>5</th>\n",
       "      <td>fear</td>\n",
       "      <td>I'm expecting an extremely important phonecall...</td>\n",
       "      <td>I'm expecting extremely important phonecall mi...</td>\n",
       "    </tr>\n",
       "    <tr>\n",
       "      <th>6</th>\n",
       "      <td>sadness</td>\n",
       "      <td>.Couldnt wait to see them live. If missing th...</td>\n",
       "      <td>.Couldnt wait live. missing NH7 wasnt painful ...</td>\n",
       "    </tr>\n",
       "    <tr>\n",
       "      <th>7</th>\n",
       "      <td>surprise</td>\n",
       "      <td>maken Tip 2: Stop op een moment dat je het hel...</td>\n",
       "      <td>maken Tip 2: Stop op een moment dat je het hel...</td>\n",
       "    </tr>\n",
       "    <tr>\n",
       "      <th>8</th>\n",
       "      <td>surprise</td>\n",
       "      <td>En dan krijg je ff een cadeautje van een tweep...</td>\n",
       "      <td>En dan krijg je ff een cadeautje van een tweep...</td>\n",
       "    </tr>\n",
       "    <tr>\n",
       "      <th>9</th>\n",
       "      <td>surprise</td>\n",
       "      <td>@1116am Drummer Boy bij op verzoek van @BiemO...</td>\n",
       "      <td>Drummer Boy bij op verzoek van . : welke uitvo...</td>\n",
       "    </tr>\n",
       "  </tbody>\n",
       "</table>\n",
       "</div>"
      ],
      "text/plain": [
       "    Emotion                                               Text  \\\n",
       "0   neutral                                             Why ?    \n",
       "1       joy    Sage Act upgrade on my to do list for tommorow.   \n",
       "2   sadness  ON THE WAY TO MY HOMEGIRL BABY FUNERAL!!! MAN ...   \n",
       "3       joy   Such an eye ! The true hazel eye-and so brill...   \n",
       "4       joy  @Iluvmiasantos ugh babe.. hugggzzz for u .!  b...   \n",
       "5      fear  I'm expecting an extremely important phonecall...   \n",
       "6   sadness   .Couldnt wait to see them live. If missing th...   \n",
       "7  surprise  maken Tip 2: Stop op een moment dat je het hel...   \n",
       "8  surprise  En dan krijg je ff een cadeautje van een tweep...   \n",
       "9  surprise   @1116am Drummer Boy bij op verzoek van @BiemO...   \n",
       "\n",
       "                                          clean_text  \n",
       "0                                                  ?  \n",
       "1                    Sage Act upgrade list tommorow.  \n",
       "2  WAY HOMEGIRL BABY FUNERAL!!! MAN HATE FUNERALS...  \n",
       "3  eye ! true hazel eye-and brilliant ! Regular f...  \n",
       "4  ugh babe.. hugggzzz u .! babe naamazed nga ako...  \n",
       "5  I'm expecting extremely important phonecall mi...  \n",
       "6  .Couldnt wait live. missing NH7 wasnt painful ...  \n",
       "7  maken Tip 2: Stop op een moment dat je het hel...  \n",
       "8  En dan krijg je ff een cadeautje van een tweep...  \n",
       "9  Drummer Boy bij op verzoek van . : welke uitvo...  "
      ]
     },
     "execution_count": 20,
     "metadata": {},
     "output_type": "execute_result"
    }
   ],
   "source": [
    "df['clean_text'] = df.clean_text.apply(nfx.remove_stopwords)\n",
    "df.head(10)"
   ]
  },
  {
   "cell_type": "code",
   "execution_count": 21,
   "id": "47df3c23-a36b-40a6-80b8-1be8cff090b4",
   "metadata": {},
   "outputs": [
    {
     "data": {
      "text/html": [
       "<div>\n",
       "<style scoped>\n",
       "    .dataframe tbody tr th:only-of-type {\n",
       "        vertical-align: middle;\n",
       "    }\n",
       "\n",
       "    .dataframe tbody tr th {\n",
       "        vertical-align: top;\n",
       "    }\n",
       "\n",
       "    .dataframe thead th {\n",
       "        text-align: right;\n",
       "    }\n",
       "</style>\n",
       "<table border=\"1\" class=\"dataframe\">\n",
       "  <thead>\n",
       "    <tr style=\"text-align: right;\">\n",
       "      <th></th>\n",
       "      <th>Emotion</th>\n",
       "      <th>clean_text</th>\n",
       "    </tr>\n",
       "  </thead>\n",
       "  <tbody>\n",
       "    <tr>\n",
       "      <th>0</th>\n",
       "      <td>neutral</td>\n",
       "      <td>?</td>\n",
       "    </tr>\n",
       "    <tr>\n",
       "      <th>1</th>\n",
       "      <td>joy</td>\n",
       "      <td>Sage Act upgrade list tommorow.</td>\n",
       "    </tr>\n",
       "    <tr>\n",
       "      <th>2</th>\n",
       "      <td>sadness</td>\n",
       "      <td>WAY HOMEGIRL BABY FUNERAL!!! MAN HATE FUNERALS...</td>\n",
       "    </tr>\n",
       "    <tr>\n",
       "      <th>3</th>\n",
       "      <td>joy</td>\n",
       "      <td>eye ! true hazel eye-and brilliant ! Regular f...</td>\n",
       "    </tr>\n",
       "    <tr>\n",
       "      <th>4</th>\n",
       "      <td>joy</td>\n",
       "      <td>ugh babe.. hugggzzz u .! babe naamazed nga ako...</td>\n",
       "    </tr>\n",
       "    <tr>\n",
       "      <th>...</th>\n",
       "      <td>...</td>\n",
       "      <td>...</td>\n",
       "    </tr>\n",
       "    <tr>\n",
       "      <th>34787</th>\n",
       "      <td>surprise</td>\n",
       "      <td>gift! Hope like it! hand wear ! It'll warm! Lol</td>\n",
       "    </tr>\n",
       "    <tr>\n",
       "      <th>34788</th>\n",
       "      <td>joy</td>\n",
       "      <td>world didnt me..so world DEFINITELY cnt away!!!</td>\n",
       "    </tr>\n",
       "    <tr>\n",
       "      <th>34789</th>\n",
       "      <td>anger</td>\n",
       "      <td>man robbed today .</td>\n",
       "    </tr>\n",
       "    <tr>\n",
       "      <th>34790</th>\n",
       "      <td>fear</td>\n",
       "      <td>Youu JEALOUSY, #Losing YOU...</td>\n",
       "    </tr>\n",
       "    <tr>\n",
       "      <th>34791</th>\n",
       "      <td>sadness</td>\n",
       "      <td>think baby, dream time</td>\n",
       "    </tr>\n",
       "  </tbody>\n",
       "</table>\n",
       "<p>34792 rows × 2 columns</p>\n",
       "</div>"
      ],
      "text/plain": [
       "        Emotion                                         clean_text\n",
       "0       neutral                                                  ?\n",
       "1           joy                    Sage Act upgrade list tommorow.\n",
       "2       sadness  WAY HOMEGIRL BABY FUNERAL!!! MAN HATE FUNERALS...\n",
       "3           joy  eye ! true hazel eye-and brilliant ! Regular f...\n",
       "4           joy  ugh babe.. hugggzzz u .! babe naamazed nga ako...\n",
       "...         ...                                                ...\n",
       "34787  surprise    gift! Hope like it! hand wear ! It'll warm! Lol\n",
       "34788       joy    world didnt me..so world DEFINITELY cnt away!!!\n",
       "34789     anger                                 man robbed today .\n",
       "34790      fear                      Youu JEALOUSY, #Losing YOU...\n",
       "34791   sadness                             think baby, dream time\n",
       "\n",
       "[34792 rows x 2 columns]"
      ]
     },
     "execution_count": 21,
     "metadata": {},
     "output_type": "execute_result"
    }
   ],
   "source": [
    "df1 = df.drop('Text',axis = 'columns')\n",
    "df1"
   ]
  },
  {
   "cell_type": "markdown",
   "id": "bbde5904-7a28-408f-b058-62abe58c7a08",
   "metadata": {},
   "source": [
    "## TRAIN TEST SPLIT"
   ]
  },
  {
   "cell_type": "code",
   "execution_count": 23,
   "id": "ca52b154-ee77-4e2c-be5a-0264b7ae9f86",
   "metadata": {},
   "outputs": [],
   "source": [
    "x = df1.clean_text\n",
    "y = df1.Emotion"
   ]
  },
  {
   "cell_type": "code",
   "execution_count": 24,
   "id": "58a5ef89-a03b-4b74-ad93-28b0b6602733",
   "metadata": {},
   "outputs": [],
   "source": [
    "x_train,x_test,y_train,y_test = train_test_split(x,y,test_size = 0.3,random_state = 99)"
   ]
  },
  {
   "cell_type": "markdown",
   "id": "77de3d2d-4e24-4b54-885a-68c2dc6f1015",
   "metadata": {},
   "source": [
    "## MODEL TRAINING"
   ]
  },
  {
   "cell_type": "code",
   "execution_count": 26,
   "id": "c513bb33-6f2a-4fd7-9682-c0c132e6563f",
   "metadata": {},
   "outputs": [
    {
     "data": {
      "text/plain": [
       "0.6320176278980648"
      ]
     },
     "execution_count": 26,
     "metadata": {},
     "output_type": "execute_result"
    }
   ],
   "source": [
    "lr_pipe = Pipeline(steps=[('cv',CountVectorizer()),('lr',LogisticRegression())])\n",
    "lr_pipe.fit(x_train,y_train)\n",
    "lr_pipe.score(x_test,y_test)"
   ]
  },
  {
   "cell_type": "markdown",
   "id": "ec6884f1-f0c6-4cf0-af10-983202fa0b36",
   "metadata": {},
   "source": [
    "## SAVE MODEL"
   ]
  },
  {
   "cell_type": "code",
   "execution_count": 43,
   "id": "d7309a90-0c48-4a86-84e3-3a22dd35b0ba",
   "metadata": {},
   "outputs": [],
   "source": [
    "pipeline_save = open('text_emotion.pkl','wb')\n",
    "joblib.dump(lr_pipe,pipeline_save)\n",
    "pipeline_save.close()"
   ]
  }
 ],
 "metadata": {
  "kernelspec": {
   "display_name": "Python 3 (ipykernel)",
   "language": "python",
   "name": "python3"
  },
  "language_info": {
   "codemirror_mode": {
    "name": "ipython",
    "version": 3
   },
   "file_extension": ".py",
   "mimetype": "text/x-python",
   "name": "python",
   "nbconvert_exporter": "python",
   "pygments_lexer": "ipython3",
   "version": "3.12.4"
  }
 },
 "nbformat": 4,
 "nbformat_minor": 5
}
