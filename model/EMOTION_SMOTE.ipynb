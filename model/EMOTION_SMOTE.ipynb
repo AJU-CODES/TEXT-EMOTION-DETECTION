{
 "cells": [
  {
   "cell_type": "markdown",
   "id": "21892edf-2146-40e3-a879-03eb5ae57476",
   "metadata": {
    "id": "21892edf-2146-40e3-a879-03eb5ae57476"
   },
   "source": [
    "# TEXT EMOTION DETECTION"
   ]
  },
  {
   "cell_type": "markdown",
   "id": "b724c72f-14b2-438c-8589-3885e5095be6",
   "metadata": {
    "id": "b724c72f-14b2-438c-8589-3885e5095be6"
   },
   "source": [
    "## LIBRARY IMPORT"
   ]
  },
  {
   "cell_type": "code",
   "execution_count": 3,
   "id": "650f97a2-7e58-4d9d-8b43-29cacab88cf7",
   "metadata": {
    "colab": {
     "base_uri": "https://localhost:8080/"
    },
    "id": "650f97a2-7e58-4d9d-8b43-29cacab88cf7",
    "outputId": "5fb5b0f9-3704-4d6e-f8b5-9fa09c77ba3d"
   },
   "outputs": [
    {
     "name": "stdout",
     "output_type": "stream",
     "text": [
      "Requirement already satisfied: neattext in d:\\python_anaconda\\lib\\site-packages (0.1.3)\n"
     ]
    }
   ],
   "source": [
    "!pip install neattext"
   ]
  },
  {
   "cell_type": "code",
   "execution_count": 4,
   "id": "58bf2af4-db8e-4183-8659-bb3191c90751",
   "metadata": {
    "id": "58bf2af4-db8e-4183-8659-bb3191c90751"
   },
   "outputs": [],
   "source": [
    "import pandas as aju\n",
    "import numpy as np\n",
    "import seaborn as sns\n",
    "import matplotlib.pyplot as plt\n",
    "import warnings\n",
    "import joblib\n",
    "\n",
    "from sklearn.model_selection import train_test_split, GridSearchCV\n",
    "from sklearn.linear_model import LogisticRegression\n",
    "from sklearn.ensemble import RandomForestClassifier\n",
    "from sklearn.svm import SVC\n",
    "from imblearn.pipeline import Pipeline\n",
    "from imblearn.over_sampling import SMOTE\n",
    "from sklearn.feature_extraction.text import TfidfVectorizer\n",
    "from sklearn.metrics import accuracy_score\n",
    "\n",
    "import neattext.functions as nfx"
   ]
  },
  {
   "cell_type": "code",
   "execution_count": 5,
   "id": "2e25c019-83ea-4556-9b3d-f18c9de4a613",
   "metadata": {
    "id": "2e25c019-83ea-4556-9b3d-f18c9de4a613"
   },
   "outputs": [],
   "source": [
    "warnings.filterwarnings('ignore')"
   ]
  },
  {
   "cell_type": "markdown",
   "id": "b99c6e96-7480-403b-9a1e-37b350c50696",
   "metadata": {
    "id": "b99c6e96-7480-403b-9a1e-37b350c50696"
   },
   "source": [
    "## DATA IMPORT"
   ]
  },
  {
   "cell_type": "code",
   "execution_count": 7,
   "id": "f4d61493-9a81-43ff-b71f-4975d91dcde6",
   "metadata": {
    "id": "f4d61493-9a81-43ff-b71f-4975d91dcde6"
   },
   "outputs": [],
   "source": [
    "df = aju.read_csv('../DATA/emotion_dataset_raw.csv')"
   ]
  },
  {
   "cell_type": "markdown",
   "id": "61ed9623-71c4-4305-9781-72deb0acf3b3",
   "metadata": {
    "id": "61ed9623-71c4-4305-9781-72deb0acf3b3"
   },
   "source": [
    "## EDA"
   ]
  },
  {
   "cell_type": "code",
   "execution_count": 9,
   "id": "0c1dba21-f62f-4d85-b886-aa2610dec8f5",
   "metadata": {
    "colab": {
     "base_uri": "https://localhost:8080/",
     "height": 206
    },
    "id": "0c1dba21-f62f-4d85-b886-aa2610dec8f5",
    "outputId": "9c3904c3-30e0-4f15-f734-1d43d370d303"
   },
   "outputs": [
    {
     "data": {
      "text/html": [
       "<div>\n",
       "<style scoped>\n",
       "    .dataframe tbody tr th:only-of-type {\n",
       "        vertical-align: middle;\n",
       "    }\n",
       "\n",
       "    .dataframe tbody tr th {\n",
       "        vertical-align: top;\n",
       "    }\n",
       "\n",
       "    .dataframe thead th {\n",
       "        text-align: right;\n",
       "    }\n",
       "</style>\n",
       "<table border=\"1\" class=\"dataframe\">\n",
       "  <thead>\n",
       "    <tr style=\"text-align: right;\">\n",
       "      <th></th>\n",
       "      <th>Emotion</th>\n",
       "      <th>Text</th>\n",
       "    </tr>\n",
       "  </thead>\n",
       "  <tbody>\n",
       "    <tr>\n",
       "      <th>0</th>\n",
       "      <td>neutral</td>\n",
       "      <td>Why ?</td>\n",
       "    </tr>\n",
       "    <tr>\n",
       "      <th>1</th>\n",
       "      <td>joy</td>\n",
       "      <td>Sage Act upgrade on my to do list for tommorow.</td>\n",
       "    </tr>\n",
       "    <tr>\n",
       "      <th>2</th>\n",
       "      <td>sadness</td>\n",
       "      <td>ON THE WAY TO MY HOMEGIRL BABY FUNERAL!!! MAN ...</td>\n",
       "    </tr>\n",
       "    <tr>\n",
       "      <th>3</th>\n",
       "      <td>joy</td>\n",
       "      <td>Such an eye ! The true hazel eye-and so brill...</td>\n",
       "    </tr>\n",
       "    <tr>\n",
       "      <th>4</th>\n",
       "      <td>joy</td>\n",
       "      <td>@Iluvmiasantos ugh babe.. hugggzzz for u .!  b...</td>\n",
       "    </tr>\n",
       "  </tbody>\n",
       "</table>\n",
       "</div>"
      ],
      "text/plain": [
       "   Emotion                                               Text\n",
       "0  neutral                                             Why ? \n",
       "1      joy    Sage Act upgrade on my to do list for tommorow.\n",
       "2  sadness  ON THE WAY TO MY HOMEGIRL BABY FUNERAL!!! MAN ...\n",
       "3      joy   Such an eye ! The true hazel eye-and so brill...\n",
       "4      joy  @Iluvmiasantos ugh babe.. hugggzzz for u .!  b..."
      ]
     },
     "execution_count": 9,
     "metadata": {},
     "output_type": "execute_result"
    }
   ],
   "source": [
    "df.head()"
   ]
  },
  {
   "cell_type": "code",
   "execution_count": 10,
   "id": "J4G7tdZKyJpj",
   "metadata": {
    "colab": {
     "base_uri": "https://localhost:8080/"
    },
    "id": "J4G7tdZKyJpj",
    "outputId": "a0fd5a98-c96d-4e37-af66-9e585a60180a"
   },
   "outputs": [
    {
     "data": {
      "text/plain": [
       "(34792, 2)"
      ]
     },
     "execution_count": 10,
     "metadata": {},
     "output_type": "execute_result"
    }
   ],
   "source": [
    "df.shape"
   ]
  },
  {
   "cell_type": "code",
   "execution_count": 11,
   "id": "80cc3faf-950c-4e68-9482-6d8a0b482ee1",
   "metadata": {
    "colab": {
     "base_uri": "https://localhost:8080/",
     "height": 366
    },
    "id": "80cc3faf-950c-4e68-9482-6d8a0b482ee1",
    "outputId": "ffb7b9ed-8990-4362-f3a2-32c42c601b50"
   },
   "outputs": [
    {
     "data": {
      "text/plain": [
       "Emotion\n",
       "joy         11045\n",
       "sadness      6722\n",
       "fear         5410\n",
       "anger        4297\n",
       "surprise     4062\n",
       "neutral      2254\n",
       "disgust       856\n",
       "shame         146\n",
       "Name: count, dtype: int64"
      ]
     },
     "execution_count": 11,
     "metadata": {},
     "output_type": "execute_result"
    }
   ],
   "source": [
    "df['Emotion'].value_counts()"
   ]
  },
  {
   "cell_type": "code",
   "execution_count": 12,
   "id": "7f16861e-0017-4054-a699-587cf218e919",
   "metadata": {
    "colab": {
     "base_uri": "https://localhost:8080/",
     "height": 492
    },
    "id": "7f16861e-0017-4054-a699-587cf218e919",
    "outputId": "56d99a9d-4ccb-47dc-936d-fbf79c3727e7"
   },
   "outputs": [
    {
     "data": {
      "image/png": "[encoded data removed]",
      "text/plain": [
       "<Figure size 640x480 with 1 Axes>"
      ]
     },
     "metadata": {},
     "output_type": "display_data"
    }
   ],
   "source": [
    "df['Emotion'].value_counts().plot(kind = 'bar')\n",
    "plt.show()"
   ]
  },
  {
   "cell_type": "markdown",
   "id": "9ca094da-70cf-4a31-86c5-415e884e3850",
   "metadata": {
    "id": "9ca094da-70cf-4a31-86c5-415e884e3850"
   },
   "source": [
    "**From the above plot we can see that *Joy* has the high count and *Shame* has the low count**"
   ]
  },
  {
   "cell_type": "markdown",
   "id": "db900a15-78b7-4973-8633-6fe16840bff7",
   "metadata": {
    "id": "db900a15-78b7-4973-8633-6fe16840bff7"
   },
   "source": [
    "## DATA PREPROCESSING"
   ]
  },
  {
   "cell_type": "markdown",
   "id": "be182a33-f40c-4a3a-a513-a500d657e37d",
   "metadata": {
    "id": "be182a33-f40c-4a3a-a513-a500d657e37d"
   },
   "source": [
    "***neattext* is a library used to clean and preprocess text data**  \n",
    "\n",
    "* It is used to clean unstructured text data, reduce noises, avoid repetition of same code"
   ]
  },
  {
   "cell_type": "markdown",
   "id": "82fd1fdc-0285-4ded-b193-7df5538082a2",
   "metadata": {
    "id": "82fd1fdc-0285-4ded-b193-7df5538082a2"
   },
   "source": [
    "### REMOVING USER HANDLES"
   ]
  },
  {
   "cell_type": "markdown",
   "id": "482db40c-ecdd-46c3-9096-a5ad8dd61052",
   "metadata": {
    "id": "482db40c-ecdd-46c3-9096-a5ad8dd61052"
   },
   "source": [
    "**Removing user handles like id name,twitter handles**"
   ]
  },
  {
   "cell_type": "code",
   "execution_count": 18,
   "id": "cc123a4a-41c8-46b7-9175-15da7473e42d",
   "metadata": {
    "colab": {
     "base_uri": "https://localhost:8080/",
     "height": 223
    },
    "id": "cc123a4a-41c8-46b7-9175-15da7473e42d",
    "outputId": "20d1edfa-090c-431e-f8f7-82cfcfe6e013"
   },
   "outputs": [
    {
     "data": {
      "text/html": [
       "<div>\n",
       "<style scoped>\n",
       "    .dataframe tbody tr th:only-of-type {\n",
       "        vertical-align: middle;\n",
       "    }\n",
       "\n",
       "    .dataframe tbody tr th {\n",
       "        vertical-align: top;\n",
       "    }\n",
       "\n",
       "    .dataframe thead th {\n",
       "        text-align: right;\n",
       "    }\n",
       "</style>\n",
       "<table border=\"1\" class=\"dataframe\">\n",
       "  <thead>\n",
       "    <tr style=\"text-align: right;\">\n",
       "      <th></th>\n",
       "      <th>Emotion</th>\n",
       "      <th>Text</th>\n",
       "      <th>clean_text</th>\n",
       "    </tr>\n",
       "  </thead>\n",
       "  <tbody>\n",
       "    <tr>\n",
       "      <th>0</th>\n",
       "      <td>neutral</td>\n",
       "      <td>Why ?</td>\n",
       "      <td>Why ?</td>\n",
       "    </tr>\n",
       "    <tr>\n",
       "      <th>1</th>\n",
       "      <td>joy</td>\n",
       "      <td>Sage Act upgrade on my to do list for tommorow.</td>\n",
       "      <td>Sage Act upgrade on my to do list for tommorow.</td>\n",
       "    </tr>\n",
       "    <tr>\n",
       "      <th>2</th>\n",
       "      <td>sadness</td>\n",
       "      <td>ON THE WAY TO MY HOMEGIRL BABY FUNERAL!!! MAN ...</td>\n",
       "      <td>ON THE WAY TO MY HOMEGIRL BABY FUNERAL!!! MAN ...</td>\n",
       "    </tr>\n",
       "    <tr>\n",
       "      <th>3</th>\n",
       "      <td>joy</td>\n",
       "      <td>Such an eye ! The true hazel eye-and so brill...</td>\n",
       "      <td>Such an eye ! The true hazel eye-and so brill...</td>\n",
       "    </tr>\n",
       "    <tr>\n",
       "      <th>4</th>\n",
       "      <td>joy</td>\n",
       "      <td>@Iluvmiasantos ugh babe.. hugggzzz for u .!  b...</td>\n",
       "      <td>ugh babe.. hugggzzz for u .!  babe naamazed ...</td>\n",
       "    </tr>\n",
       "  </tbody>\n",
       "</table>\n",
       "</div>"
      ],
      "text/plain": [
       "   Emotion                                               Text  \\\n",
       "0  neutral                                             Why ?    \n",
       "1      joy    Sage Act upgrade on my to do list for tommorow.   \n",
       "2  sadness  ON THE WAY TO MY HOMEGIRL BABY FUNERAL!!! MAN ...   \n",
       "3      joy   Such an eye ! The true hazel eye-and so brill...   \n",
       "4      joy  @Iluvmiasantos ugh babe.. hugggzzz for u .!  b...   \n",
       "\n",
       "                                          clean_text  \n",
       "0                                             Why ?   \n",
       "1    Sage Act upgrade on my to do list for tommorow.  \n",
       "2  ON THE WAY TO MY HOMEGIRL BABY FUNERAL!!! MAN ...  \n",
       "3   Such an eye ! The true hazel eye-and so brill...  \n",
       "4    ugh babe.. hugggzzz for u .!  babe naamazed ...  "
      ]
     },
     "execution_count": 18,
     "metadata": {},
     "output_type": "execute_result"
    }
   ],
   "source": [
    "df['clean_text'] = df.Text.apply(nfx.remove_userhandles)\n",
    "df.head()"
   ]
  },
  {
   "cell_type": "markdown",
   "id": "f9bfe6f0-1a0e-4b1d-ae55-994deda1fd13",
   "metadata": {
    "id": "f9bfe6f0-1a0e-4b1d-ae55-994deda1fd13"
   },
   "source": [
    "### REMOVING STOPWORDS"
   ]
  },
  {
   "cell_type": "markdown",
   "id": "b8f975fe-fbab-4f1c-a77f-d05e53434008",
   "metadata": {
    "id": "b8f975fe-fbab-4f1c-a77f-d05e53434008"
   },
   "source": [
    "**Removing stopwords like *and,or,the,a,an...* that doesn't gonna affect the prediction**"
   ]
  },
  {
   "cell_type": "code",
   "execution_count": 21,
   "id": "68526029-474c-4f1c-8fa1-e24afa735760",
   "metadata": {
    "colab": {
     "base_uri": "https://localhost:8080/",
     "height": 380
    },
    "id": "68526029-474c-4f1c-8fa1-e24afa735760",
    "outputId": "3840c508-1590-4ddd-c9de-45cfd5caafa3"
   },
   "outputs": [
    {
     "data": {
      "text/html": [
       "<div>\n",
       "<style scoped>\n",
       "    .dataframe tbody tr th:only-of-type {\n",
       "        vertical-align: middle;\n",
       "    }\n",
       "\n",
       "    .dataframe tbody tr th {\n",
       "        vertical-align: top;\n",
       "    }\n",
       "\n",
       "    .dataframe thead th {\n",
       "        text-align: right;\n",
       "    }\n",
       "</style>\n",
       "<table border=\"1\" class=\"dataframe\">\n",
       "  <thead>\n",
       "    <tr style=\"text-align: right;\">\n",
       "      <th></th>\n",
       "      <th>Emotion</th>\n",
       "      <th>Text</th>\n",
       "      <th>clean_text</th>\n",
       "    </tr>\n",
       "  </thead>\n",
       "  <tbody>\n",
       "    <tr>\n",
       "      <th>0</th>\n",
       "      <td>neutral</td>\n",
       "      <td>Why ?</td>\n",
       "      <td>?</td>\n",
       "    </tr>\n",
       "    <tr>\n",
       "      <th>1</th>\n",
       "      <td>joy</td>\n",
       "      <td>Sage Act upgrade on my to do list for tommorow.</td>\n",
       "      <td>Sage Act upgrade list tommorow.</td>\n",
       "    </tr>\n",
       "    <tr>\n",
       "      <th>2</th>\n",
       "      <td>sadness</td>\n",
       "      <td>ON THE WAY TO MY HOMEGIRL BABY FUNERAL!!! MAN ...</td>\n",
       "      <td>WAY HOMEGIRL BABY FUNERAL!!! MAN HATE FUNERALS...</td>\n",
       "    </tr>\n",
       "    <tr>\n",
       "      <th>3</th>\n",
       "      <td>joy</td>\n",
       "      <td>Such an eye ! The true hazel eye-and so brill...</td>\n",
       "      <td>eye ! true hazel eye-and brilliant ! Regular f...</td>\n",
       "    </tr>\n",
       "    <tr>\n",
       "      <th>4</th>\n",
       "      <td>joy</td>\n",
       "      <td>@Iluvmiasantos ugh babe.. hugggzzz for u .!  b...</td>\n",
       "      <td>ugh babe.. hugggzzz u .! babe naamazed nga ako...</td>\n",
       "    </tr>\n",
       "    <tr>\n",
       "      <th>5</th>\n",
       "      <td>fear</td>\n",
       "      <td>I'm expecting an extremely important phonecall...</td>\n",
       "      <td>I'm expecting extremely important phonecall mi...</td>\n",
       "    </tr>\n",
       "    <tr>\n",
       "      <th>6</th>\n",
       "      <td>sadness</td>\n",
       "      <td>.Couldnt wait to see them live. If missing th...</td>\n",
       "      <td>.Couldnt wait live. missing NH7 wasnt painful ...</td>\n",
       "    </tr>\n",
       "    <tr>\n",
       "      <th>7</th>\n",
       "      <td>surprise</td>\n",
       "      <td>maken Tip 2: Stop op een moment dat je het hel...</td>\n",
       "      <td>maken Tip 2: Stop op een moment dat je het hel...</td>\n",
       "    </tr>\n",
       "    <tr>\n",
       "      <th>8</th>\n",
       "      <td>surprise</td>\n",
       "      <td>En dan krijg je ff een cadeautje van een tweep...</td>\n",
       "      <td>En dan krijg je ff een cadeautje van een tweep...</td>\n",
       "    </tr>\n",
       "    <tr>\n",
       "      <th>9</th>\n",
       "      <td>surprise</td>\n",
       "      <td>@1116am Drummer Boy bij op verzoek van @BiemO...</td>\n",
       "      <td>Drummer Boy bij op verzoek van . : welke uitvo...</td>\n",
       "    </tr>\n",
       "  </tbody>\n",
       "</table>\n",
       "</div>"
      ],
      "text/plain": [
       "    Emotion                                               Text  \\\n",
       "0   neutral                                             Why ?    \n",
       "1       joy    Sage Act upgrade on my to do list for tommorow.   \n",
       "2   sadness  ON THE WAY TO MY HOMEGIRL BABY FUNERAL!!! MAN ...   \n",
       "3       joy   Such an eye ! The true hazel eye-and so brill...   \n",
       "4       joy  @Iluvmiasantos ugh babe.. hugggzzz for u .!  b...   \n",
       "5      fear  I'm expecting an extremely important phonecall...   \n",
       "6   sadness   .Couldnt wait to see them live. If missing th...   \n",
       "7  surprise  maken Tip 2: Stop op een moment dat je het hel...   \n",
       "8  surprise  En dan krijg je ff een cadeautje van een tweep...   \n",
       "9  surprise   @1116am Drummer Boy bij op verzoek van @BiemO...   \n",
       "\n",
       "                                          clean_text  \n",
       "0                                                  ?  \n",
       "1                    Sage Act upgrade list tommorow.  \n",
       "2  WAY HOMEGIRL BABY FUNERAL!!! MAN HATE FUNERALS...  \n",
       "3  eye ! true hazel eye-and brilliant ! Regular f...  \n",
       "4  ugh babe.. hugggzzz u .! babe naamazed nga ako...  \n",
       "5  I'm expecting extremely important phonecall mi...  \n",
       "6  .Couldnt wait live. missing NH7 wasnt painful ...  \n",
       "7  maken Tip 2: Stop op een moment dat je het hel...  \n",
       "8  En dan krijg je ff een cadeautje van een tweep...  \n",
       "9  Drummer Boy bij op verzoek van . : welke uitvo...  "
      ]
     },
     "execution_count": 21,
     "metadata": {},
     "output_type": "execute_result"
    }
   ],
   "source": [
    "df['clean_text'] = df.clean_text.apply(nfx.remove_stopwords)\n",
    "df.head(10)"
   ]
  },
  {
   "cell_type": "code",
   "execution_count": 22,
   "id": "47df3c23-a36b-40a6-80b8-1be8cff090b4",
   "metadata": {
    "colab": {
     "base_uri": "https://localhost:8080/",
     "height": 423
    },
    "id": "47df3c23-a36b-40a6-80b8-1be8cff090b4",
    "outputId": "89b83abb-b666-4510-ab32-d67633c1c254"
   },
   "outputs": [
    {
     "data": {
      "text/html": [
       "<div>\n",
       "<style scoped>\n",
       "    .dataframe tbody tr th:only-of-type {\n",
       "        vertical-align: middle;\n",
       "    }\n",
       "\n",
       "    .dataframe tbody tr th {\n",
       "        vertical-align: top;\n",
       "    }\n",
       "\n",
       "    .dataframe thead th {\n",
       "        text-align: right;\n",
       "    }\n",
       "</style>\n",
       "<table border=\"1\" class=\"dataframe\">\n",
       "  <thead>\n",
       "    <tr style=\"text-align: right;\">\n",
       "      <th></th>\n",
       "      <th>Emotion</th>\n",
       "      <th>clean_text</th>\n",
       "    </tr>\n",
       "  </thead>\n",
       "  <tbody>\n",
       "    <tr>\n",
       "      <th>0</th>\n",
       "      <td>neutral</td>\n",
       "      <td>?</td>\n",
       "    </tr>\n",
       "    <tr>\n",
       "      <th>1</th>\n",
       "      <td>joy</td>\n",
       "      <td>Sage Act upgrade list tommorow.</td>\n",
       "    </tr>\n",
       "    <tr>\n",
       "      <th>2</th>\n",
       "      <td>sadness</td>\n",
       "      <td>WAY HOMEGIRL BABY FUNERAL!!! MAN HATE FUNERALS...</td>\n",
       "    </tr>\n",
       "    <tr>\n",
       "      <th>3</th>\n",
       "      <td>joy</td>\n",
       "      <td>eye ! true hazel eye-and brilliant ! Regular f...</td>\n",
       "    </tr>\n",
       "    <tr>\n",
       "      <th>4</th>\n",
       "      <td>joy</td>\n",
       "      <td>ugh babe.. hugggzzz u .! babe naamazed nga ako...</td>\n",
       "    </tr>\n",
       "    <tr>\n",
       "      <th>...</th>\n",
       "      <td>...</td>\n",
       "      <td>...</td>\n",
       "    </tr>\n",
       "    <tr>\n",
       "      <th>34787</th>\n",
       "      <td>surprise</td>\n",
       "      <td>gift! Hope like it! hand wear ! It'll warm! Lol</td>\n",
       "    </tr>\n",
       "    <tr>\n",
       "      <th>34788</th>\n",
       "      <td>joy</td>\n",
       "      <td>world didnt me..so world DEFINITELY cnt away!!!</td>\n",
       "    </tr>\n",
       "    <tr>\n",
       "      <th>34789</th>\n",
       "      <td>anger</td>\n",
       "      <td>man robbed today .</td>\n",
       "    </tr>\n",
       "    <tr>\n",
       "      <th>34790</th>\n",
       "      <td>fear</td>\n",
       "      <td>Youu JEALOUSY, #Losing YOU...</td>\n",
       "    </tr>\n",
       "    <tr>\n",
       "      <th>34791</th>\n",
       "      <td>sadness</td>\n",
       "      <td>think baby, dream time</td>\n",
       "    </tr>\n",
       "  </tbody>\n",
       "</table>\n",
       "<p>34792 rows × 2 columns</p>\n",
       "</div>"
      ],
      "text/plain": [
       "        Emotion                                         clean_text\n",
       "0       neutral                                                  ?\n",
       "1           joy                    Sage Act upgrade list tommorow.\n",
       "2       sadness  WAY HOMEGIRL BABY FUNERAL!!! MAN HATE FUNERALS...\n",
       "3           joy  eye ! true hazel eye-and brilliant ! Regular f...\n",
       "4           joy  ugh babe.. hugggzzz u .! babe naamazed nga ako...\n",
       "...         ...                                                ...\n",
       "34787  surprise    gift! Hope like it! hand wear ! It'll warm! Lol\n",
       "34788       joy    world didnt me..so world DEFINITELY cnt away!!!\n",
       "34789     anger                                 man robbed today .\n",
       "34790      fear                      Youu JEALOUSY, #Losing YOU...\n",
       "34791   sadness                             think baby, dream time\n",
       "\n",
       "[34792 rows x 2 columns]"
      ]
     },
     "execution_count": 22,
     "metadata": {},
     "output_type": "execute_result"
    }
   ],
   "source": [
    "df1 = df.drop('Text',axis = 'columns')\n",
    "df1"
   ]
  },
  {
   "cell_type": "markdown",
   "id": "bbde5904-7a28-408f-b058-62abe58c7a08",
   "metadata": {
    "id": "bbde5904-7a28-408f-b058-62abe58c7a08"
   },
   "source": [
    "## TRAIN TEST SPLIT"
   ]
  },
  {
   "cell_type": "code",
   "execution_count": 24,
   "id": "rRPNdLOZYrkh",
   "metadata": {
    "id": "rRPNdLOZYrkh"
   },
   "outputs": [],
   "source": [
    "df2 = df1.head(1000)"
   ]
  },
  {
   "cell_type": "code",
   "execution_count": 25,
   "id": "Qz2xspU4ZdAk",
   "metadata": {
    "colab": {
     "base_uri": "https://localhost:8080/",
     "height": 366
    },
    "id": "Qz2xspU4ZdAk",
    "outputId": "5af20137-73c1-47b7-cd79-d4c81a0b25dc"
   },
   "outputs": [
    {
     "data": {
      "text/plain": [
       "Emotion\n",
       "joy         291\n",
       "sadness     208\n",
       "fear        169\n",
       "anger       138\n",
       "surprise    105\n",
       "neutral      61\n",
       "disgust      24\n",
       "shame         4\n",
       "Name: count, dtype: int64"
      ]
     },
     "execution_count": 25,
     "metadata": {},
     "output_type": "execute_result"
    }
   ],
   "source": [
    "df2.Emotion.value_counts()"
   ]
  },
  {
   "cell_type": "code",
   "execution_count": 26,
   "id": "ca52b154-ee77-4e2c-be5a-0264b7ae9f86",
   "metadata": {
    "id": "ca52b154-ee77-4e2c-be5a-0264b7ae9f86"
   },
   "outputs": [],
   "source": [
    "x = df2.clean_text\n",
    "y = df2.Emotion"
   ]
  },
  {
   "cell_type": "code",
   "execution_count": 27,
   "id": "58a5ef89-a03b-4b74-ad93-28b0b6602733",
   "metadata": {
    "id": "58a5ef89-a03b-4b74-ad93-28b0b6602733"
   },
   "outputs": [],
   "source": [
    "x_train,x_test,y_train,y_test = train_test_split(x,y,stratify = y,test_size = 0.3,random_state = 99)"
   ]
  },
  {
   "cell_type": "code",
   "execution_count": 28,
   "id": "pWY8aoUMI410",
   "metadata": {
    "id": "pWY8aoUMI410"
   },
   "outputs": [],
   "source": [
    "smote = SMOTE(k_neighbors= 1,random_state=99)\n",
    "vect = TfidfVectorizer(max_features=5000)"
   ]
  },
  {
   "cell_type": "code",
   "execution_count": 29,
   "id": "4zTcjBKlJ1CQ",
   "metadata": {
    "id": "4zTcjBKlJ1CQ"
   },
   "outputs": [],
   "source": [
    "x_train_vec = vect.fit_transform(x_train)"
   ]
  },
  {
   "cell_type": "code",
   "execution_count": 30,
   "id": "wpL-aef_bAdo",
   "metadata": {
    "id": "wpL-aef_bAdo"
   },
   "outputs": [],
   "source": [
    "x_test_vec = vect.transform(x_test)"
   ]
  },
  {
   "cell_type": "code",
   "execution_count": 31,
   "id": "EkVv_-p9cIFs",
   "metadata": {
    "id": "EkVv_-p9cIFs"
   },
   "outputs": [],
   "source": [
    "x_test_dense = x_test_vec.toarray()"
   ]
  },
  {
   "cell_type": "code",
   "execution_count": 32,
   "id": "JANi5jvhMPwR",
   "metadata": {
    "id": "JANi5jvhMPwR"
   },
   "outputs": [],
   "source": [
    "x_train_vec_dense = x_train_vec.toarray()"
   ]
  },
  {
   "cell_type": "code",
   "execution_count": 33,
   "id": "GRDQxsBjJGsO",
   "metadata": {
    "id": "GRDQxsBjJGsO"
   },
   "outputs": [],
   "source": [
    "x_train_res,y_train_res = smote.fit_resample(x_train_vec_dense,y_train)"
   ]
  },
  {
   "cell_type": "code",
   "execution_count": 34,
   "id": "tfzjZnCqK-Y2",
   "metadata": {
    "colab": {
     "base_uri": "https://localhost:8080/",
     "height": 509
    },
    "id": "tfzjZnCqK-Y2",
    "outputId": "805d706c-073d-46b7-f776-a601cf432e44"
   },
   "outputs": [
    {
     "data": {
      "text/plain": [
       "<Axes: xlabel='Emotion'>"
      ]
     },
     "execution_count": 34,
     "metadata": {},
     "output_type": "execute_result"
    },
    {
     "data": {
      "image/png": "[encoded data removed]",
      "text/plain": [
       "<Figure size 640x480 with 1 Axes>"
      ]
     },
     "metadata": {},
     "output_type": "display_data"
    }
   ],
   "source": [
    "y_train_res.value_counts().plot(kind = 'bar')"
   ]
  },
  {
   "cell_type": "markdown",
   "id": "77de3d2d-4e24-4b54-885a-68c2dc6f1015",
   "metadata": {
    "id": "77de3d2d-4e24-4b54-885a-68c2dc6f1015"
   },
   "source": [
    "## MODEL TRAINING"
   ]
  },
  {
   "cell_type": "code",
   "execution_count": 36,
   "id": "c513bb33-6f2a-4fd7-9682-c0c132e6563f",
   "metadata": {
    "id": "c513bb33-6f2a-4fd7-9682-c0c132e6563f"
   },
   "outputs": [],
   "source": [
    "lr_pipe = Pipeline(steps=[('cv',TfidfVectorizer(max_features=5000)),('lr',LogisticRegression())])\n",
    "lr_pipe.fit(x_train,y_train)\n",
    "lr_res = lr_pipe.score(x_test,y_test)"
   ]
  },
  {
   "cell_type": "code",
   "execution_count": 37,
   "id": "c310a278-1540-4f10-9a1d-540cd9dbb6cf",
   "metadata": {
    "id": "c310a278-1540-4f10-9a1d-540cd9dbb6cf"
   },
   "outputs": [],
   "source": [
    "SVC_pipe = Pipeline(steps=[('cv',TfidfVectorizer(max_features=5000)),('lr',SVC())])\n",
    "SVC_pipe.fit(x_train,y_train)\n",
    "svc_res = SVC_pipe.score(x_test,y_test)"
   ]
  },
  {
   "cell_type": "code",
   "execution_count": 38,
   "id": "LjGR5TUX-AhX",
   "metadata": {
    "id": "LjGR5TUX-AhX"
   },
   "outputs": [],
   "source": [
    "rfc_pipe = Pipeline(steps=[('cv',TfidfVectorizer(max_features=5000)),('lr',RandomForestClassifier())])\n",
    "rfc_pipe.fit(x_train,y_train)\n",
    "rfc_res = rfc_pipe.score(x_test,y_test)"
   ]
  },
  {
   "cell_type": "code",
   "execution_count": 39,
   "id": "ABduHDnb_LQ1",
   "metadata": {
    "colab": {
     "base_uri": "https://localhost:8080/"
    },
    "id": "ABduHDnb_LQ1",
    "outputId": "8aa4a957-b297-472f-b771-9277643a4f59"
   },
   "outputs": [
    {
     "name": "stdout",
     "output_type": "stream",
     "text": [
      "0.4066666666666667 | 0.3466666666666667 | 0.36666666666666664\n"
     ]
    }
   ],
   "source": [
    "print(lr_res,\"|\",svc_res,\"|\",rfc_res)"
   ]
  },
  {
   "cell_type": "markdown",
   "id": "eP7Lhoid0A1J",
   "metadata": {
    "id": "eP7Lhoid0A1J"
   },
   "source": [
    "## HYPERPARAMETER TUNING"
   ]
  },
  {
   "cell_type": "code",
   "execution_count": 41,
   "id": "sWQskhl4z6wU",
   "metadata": {
    "id": "sWQskhl4z6wU"
   },
   "outputs": [],
   "source": [
    "model_params = {\n",
    "    'svm':{\n",
    "        'model': SVC(gamma = 'auto'),\n",
    "        'params':{\n",
    "            'C':[1,10,20],\n",
    "            'kernel':['rbf','linear']\n",
    "        }\n",
    "    },\n",
    "    'rfc':{\n",
    "      'model': RandomForestClassifier(),\n",
    "        'params':{\n",
    "            'n_estimators': [100,150,200]\n",
    "        }\n",
    "    },\n",
    "    'lr':{\n",
    "        'model': LogisticRegression(solver = 'liblinear',multi_class = 'auto'),\n",
    "        'params':{\n",
    "            'C': [1,5,10]\n",
    "        }\n",
    "    }\n",
    "}"
   ]
  },
  {
   "cell_type": "code",
   "execution_count": 42,
   "id": "2T-Y__li0Gl7",
   "metadata": {
    "colab": {
     "base_uri": "https://localhost:8080/"
    },
    "id": "2T-Y__li0Gl7",
    "outputId": "452c3e2e-91ea-4f65-fb94-66ba71d2a666"
   },
   "outputs": [
    {
     "name": "stdout",
     "output_type": "stream",
     "text": [
      "\n",
      "Running GridSearchCV for svm..\n",
      "SVC(gamma='auto')\n",
      "Best params for svm: {'C': 1, 'kernel': 'linear'}\n",
      "Best score for svm: 0.8201378114136166\n",
      "Accuracy: 0.42\n",
      "\n",
      "Running GridSearchCV for rfc..\n",
      "RandomForestClassifier()\n",
      "Best params for rfc: {'n_estimators': 200}\n",
      "Best score for rfc: 0.7436600650709648\n",
      "Accuracy: 0.33\n",
      "\n",
      "Running GridSearchCV for lr..\n",
      "LogisticRegression(multi_class='auto', solver='liblinear')\n",
      "Best params for lr: {'C': 5}\n",
      "Best score for lr: 0.817210746534638\n",
      "Accuracy: 0.43\n"
     ]
    }
   ],
   "source": [
    "best_models = {}\n",
    "for name,mp in model_params.items():\n",
    "    print(f\"\\nRunning GridSearchCV for {name}..\")\n",
    "    print(mp['model'])\n",
    "    clf = GridSearchCV(mp['model'],mp['params'],cv=3,scoring = 'f1_macro',n_jobs = -1)\n",
    "    clf.fit(x_train_res,y_train_res)\n",
    "    y_pred = clf.predict(x_test_dense)\n",
    "    acc = accuracy_score(y_test,y_pred)\n",
    "    print(f\"Best params for {name}: {clf.best_params_}\")\n",
    "    print(f\"Best score for {name}: {clf.best_score_}\")\n",
    "    print(f\"Accuracy:{acc : .2f}\")\n",
    "\n",
    "    best_models[name] = clf"
   ]
  },
  {
   "cell_type": "markdown",
   "id": "lwVErJGcc_P9",
   "metadata": {
    "id": "lwVErJGcc_P9"
   },
   "source": [
    "## FIT LR FOR D1"
   ]
  },
  {
   "cell_type": "code",
   "execution_count": 44,
   "id": "uJxkmhHXdEkX",
   "metadata": {
    "id": "uJxkmhHXdEkX"
   },
   "outputs": [],
   "source": [
    "x = df1.clean_text\n",
    "y = df1.Emotion"
   ]
  },
  {
   "cell_type": "code",
   "execution_count": 45,
   "id": "PY1eVNNXeUVK",
   "metadata": {
    "colab": {
     "base_uri": "https://localhost:8080/",
     "height": 509
    },
    "id": "PY1eVNNXeUVK",
    "outputId": "7bedc274-4a1c-486f-81fe-476679dc5f26"
   },
   "outputs": [
    {
     "data": {
      "text/plain": [
       "<Axes: xlabel='Emotion'>"
      ]
     },
     "execution_count": 45,
     "metadata": {},
     "output_type": "execute_result"
    },
    {
     "data": {
      "image/png": "[encoded data removed]",
      "text/plain": [
       "<Figure size 640x480 with 1 Axes>"
      ]
     },
     "metadata": {},
     "output_type": "display_data"
    }
   ],
   "source": [
    "df1.Emotion.value_counts().plot(kind = 'bar')"
   ]
  },
  {
   "cell_type": "code",
   "execution_count": 46,
   "id": "PIPaQpl3dRK3",
   "metadata": {
    "id": "PIPaQpl3dRK3"
   },
   "outputs": [],
   "source": [
    "x_train,x_test,y_train,y_test = train_test_split(x,y,stratify = y,test_size = 0.3,random_state = 99)"
   ]
  },
  {
   "cell_type": "code",
   "execution_count": 47,
   "id": "JT0e6xsXdktU",
   "metadata": {
    "id": "JT0e6xsXdktU"
   },
   "outputs": [],
   "source": [
    "smt = SMOTE(k_neighbors= 3,random_state = 99)\n",
    "vect = TfidfVectorizer(max_features=5000)"
   ]
  },
  {
   "cell_type": "code",
   "execution_count": 48,
   "id": "_SImyJO3dwkF",
   "metadata": {
    "id": "_SImyJO3dwkF"
   },
   "outputs": [],
   "source": [
    "x_train_vect = vect.fit_transform(x_train)\n",
    "x_test_vect = vect.transform(x_test)\n",
    "x_train_dense = x_train_vect.toarray()\n",
    "x_test_dense = x_test_vect.toarray()"
   ]
  },
  {
   "cell_type": "code",
   "execution_count": 49,
   "id": "hEGSV5KAecRP",
   "metadata": {
    "id": "hEGSV5KAecRP"
   },
   "outputs": [],
   "source": [
    "x_train_re,y_train_re = smt.fit_resample(x_train_dense,y_train)"
   ]
  },
  {
   "cell_type": "code",
   "execution_count": 50,
   "id": "GZmMBk54ep4M",
   "metadata": {
    "colab": {
     "base_uri": "https://localhost:8080/",
     "height": 509
    },
    "id": "GZmMBk54ep4M",
    "outputId": "214649a1-60ee-4cad-e69a-8f20a91a74b1"
   },
   "outputs": [
    {
     "data": {
      "text/plain": [
       "<Axes: xlabel='Emotion'>"
      ]
     },
     "execution_count": 50,
     "metadata": {},
     "output_type": "execute_result"
    },
    {
     "data": {
      "image/png": "[encoded data removed]",
      "text/plain": [
       "<Figure size 640x480 with 1 Axes>"
      ]
     },
     "metadata": {},
     "output_type": "display_data"
    }
   ],
   "source": [
    "y_train_re.value_counts().plot(kind = 'bar')"
   ]
  },
  {
   "cell_type": "code",
   "execution_count": 51,
   "id": "pmGsZkfXcxLV",
   "metadata": {
    "colab": {
     "base_uri": "https://localhost:8080/"
    },
    "id": "pmGsZkfXcxLV",
    "outputId": "0426fca2-d635-4c8e-9c85-ee939503b309"
   },
   "outputs": [
    {
     "data": {
      "text/plain": [
       "0.5857443954780609"
      ]
     },
     "execution_count": 51,
     "metadata": {},
     "output_type": "execute_result"
    }
   ],
   "source": [
    "lr = LogisticRegression(multi_class= 'auto',solver = 'liblinear',C=3.5,max_iter= 10000,)\n",
    "lr.fit(x_train_re,y_train_re)\n",
    "y_pred = lr.predict(x_test_dense)\n",
    "accuracy_score(y_test,y_pred)"
   ]
  },
  {
   "cell_type": "code",
   "execution_count": 104,
   "id": "qkZY0mGZgZT5",
   "metadata": {
    "colab": {
     "base_uri": "https://localhost:8080/",
     "height": 373
    },
    "id": "qkZY0mGZgZT5",
    "outputId": "f7ab7c8b-4bc6-40b9-ab9e-b866423e755c"
   },
   "outputs": [
    {
     "data": {
      "text/plain": [
       "0.31730216516574056"
      ]
     },
     "execution_count": 104,
     "metadata": {},
     "output_type": "execute_result"
    }
   ],
   "source": [
    "rfc = RandomForestClassifier(n_estimators= 500,max_depth = 5)\n",
    "# 100 : 0.5790381299099444\n",
    "# 200 : 0.58172063613719\n",
    "rfc.fit(x_train_re,y_train_re)\n",
    "y_pred = rfc.predict(x_test_dense)\n",
    "accuracy_score(y_test,y_pred)"
   ]
  },
  {
   "cell_type": "code",
   "execution_count": 106,
   "id": "d465c472-3016-4123-b9cb-a4d1c34cde71",
   "metadata": {},
   "outputs": [],
   "source": [
    "lr_pipe = Pipeline(steps=[('cv',TfidfVectorizer(max_features=5000)),('lr',LogisticRegression(multi_class= 'auto',solver = 'liblinear',C=3.5,max_iter= 10000))])\n",
    "lr_pipe.fit(x_train,y_train)\n",
    "lr_res = lr_pipe.score(x_test,y_test)"
   ]
  },
  {
   "cell_type": "code",
   "execution_count": 108,
   "id": "fdf69eaf-c2a0-4391-a181-c215ab44fce0",
   "metadata": {},
   "outputs": [
    {
     "data": {
      "text/plain": [
       "0.6164974132975666"
      ]
     },
     "execution_count": 108,
     "metadata": {},
     "output_type": "execute_result"
    }
   ],
   "source": [
    "lr_res"
   ]
  },
  {
   "cell_type": "code",
   "execution_count": 114,
   "id": "1bcd5cbc-c50b-41c7-800f-aa90a7ac877d",
   "metadata": {},
   "outputs": [
    {
     "data": {
      "text/plain": [
       "array(['joy'], dtype=object)"
      ]
     },
     "execution_count": 114,
     "metadata": {},
     "output_type": "execute_result"
    }
   ],
   "source": [
    "lr_pipe.predict(['im happy'])"
   ]
  },
  {
   "cell_type": "markdown",
   "id": "97C1TolQgLQ1",
   "metadata": {
    "id": "97C1TolQgLQ1"
   },
   "source": [
    "AFTER APPLYING SEVERAL 'C' VALUES THE ACCURACY IS NOT IMPROVING IN THIS CLASSIC MACHINE LEARNING MODEL"
   ]
  },
  {
   "cell_type": "markdown",
   "id": "ec6884f1-f0c6-4cf0-af10-983202fa0b36",
   "metadata": {
    "id": "ec6884f1-f0c6-4cf0-af10-983202fa0b36"
   },
   "source": [
    "## SAVE MODEL"
   ]
  },
  {
   "cell_type": "code",
   "execution_count": 110,
   "id": "d7309a90-0c48-4a86-84e3-3a22dd35b0ba",
   "metadata": {
    "id": "d7309a90-0c48-4a86-84e3-3a22dd35b0ba"
   },
   "outputs": [],
   "source": [
    "pipeline_save = open('text_emotion.pkl','wb')\n",
    "joblib.dump(lr_pipe,pipeline_save)\n",
    "pipeline_save.close()"
   ]
  }
 ],
 "metadata": {
  "colab": {
   "provenance": []
  },
  "kernelspec": {
   "display_name": "Python 3 (ipykernel)",
   "language": "python",
   "name": "python3"
  },
  "language_info": {
   "codemirror_mode": {
    "name": "ipython",
    "version": 3
   },
   "file_extension": ".py",
   "mimetype": "text/x-python",
   "name": "python",
   "nbconvert_exporter": "python",
   "pygments_lexer": "ipython3",
   "version": "3.12.4"
  }
 },
 "nbformat": 4,
 "nbformat_minor": 5
}
